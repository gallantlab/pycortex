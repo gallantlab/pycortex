{
 "cells": [
  {
   "cell_type": "markdown",
   "metadata": {},
   "source": [
    "# Functional MRI pial flattening in 20 minutes\n",
    "\n",
    "This notebook demonstrates how to use PyCortex to:\n",
    "1. Cut and flatten brain surfaces in under 20 minutes;\n",
    "2. Preview flattened surface in under 10 seconds;\n",
    "3. Visualize BOLD fMRI data on the flattened surfaces"
   ]
  },
  {
   "cell_type": "markdown",
   "metadata": {},
   "source": [
    "## Prerequisites\n",
    "\n",
    "You will need to run auto"
   ]
  },
  {
   "cell_type": "markdown",
   "metadata": {},
   "source": [
    "#### 1. Reconcile subject's anatomy with Freesurfer\n",
    "\n",
    "Make sure you have fully reconciled the subject's. Detailed guidance is out of scope for this notebook, but roughly you should've run these lines:\n",
    "\n",
    "```\n",
    "recon-all -autorecon1 -s sub-01\n",
    "recon-all -autorecon2 -s sub-01\n",
    "recon-all -autorecon3 -s sub-01\n",
    "```"
   ]
  },
  {
   "cell_type": "markdown",
   "metadata": {},
   "source": [
    "#### 2. Install Python dependencies"
   ]
  },
  {
   "cell_type": "code",
   "execution_count": 13,
   "metadata": {},
   "outputs": [],
   "source": [
    "import cortex\n",
    "import nibabel as nib\n",
    "import numpy as np\n",
    "from matplotlib import pyplot as plt"
   ]
  },
  {
   "cell_type": "markdown",
   "metadata": {},
   "source": [
    "## Step 1: Align Function MRI to Anatomical\n",
    "\n",
    "`cortex.align.automatic` perform automatic alignment using Freesurfer's boundary-based registration. It is fully automated. This should take ~1 minute."
   ]
  },
  {
   "cell_type": "code",
   "execution_count": null,
   "metadata": {},
   "outputs": [],
   "source": [
    "bold_nii_gz_path = \"path to bold.nii.gz\"\n",
    "cortex.align.automatic(\n",
    "    subject=\"sub-01\",\n",
    "    xfmname=\"full\",\n",
    "    reference=bold_nii_gz_path,\n",
    ")"
   ]
  },
  {
   "cell_type": "markdown",
   "metadata": {},
   "source": [
    "## Step 2: Surface Cutting and Flattening\n",
    "\n",
    "`cortex.segment.cut_surface` performs surface cutting. It is semi-automatic, meaning it requires a bit of manual work. It will start Blender for us to manually specify the cuts. Make sure Blender is installed on your system.\n",
    "\n",
    "#### A. Left hemisphere\n",
    "\n",
    "Let's start with the left hemisphere.\n",
    "\n",
    "Please follow [this guide](https://www.youtube.com/watch?v=D4tylQ_mMuM) on cuts. This will take ~15 minutes."
   ]
  },
  {
   "cell_type": "code",
   "execution_count": null,
   "metadata": {},
   "outputs": [],
   "source": [
    "cortex.segment.cut_surface(\n",
    "    \"sub-01\",\n",
    "    \"lh\",\n",
    "    name=\"exp\",\n",
    "    flatten_with=\"blender\",\n",
    "    method=\"CONFORMAL\",\n",
    "    recache=True,\n",
    "    do_import_subject=False,\n",
    ")"
   ]
  },
  {
   "cell_type": "markdown",
   "metadata": {},
   "source": [
    "#### B. Right hemisphere\n",
    "\n",
    "Then repeat the same for the right hemisphere.\n",
    "\n",
    "This will take another ~5 minutes.\n"
   ]
  },
  {
   "cell_type": "code",
   "execution_count": null,
   "metadata": {},
   "outputs": [],
   "source": [
    "# Right hemisphere\n",
    "cortex.segment.cut_surface(\n",
    "    \"sub-01\",\n",
    "    \"rh\",\n",
    "    name=\"exp\",\n",
    "    flatten_with=\"blender\",\n",
    "    method=\"CONFORMAL\",\n",
    "    recache=True,\n",
    "    auto_overwrite=True,\n",
    "    do_import_subject=True,\n",
    ")"
   ]
  },
  {
   "cell_type": "markdown",
   "metadata": {},
   "source": [
    "## Step 3: Visualize fMRI\n",
    "\n",
    "Now we'll load the BOLD fMRI data and prepare it for visualization. We'll compute the temporal mean of the BOLD signal to create a static visualization.\n",
    "\n",
    "Then we can use `cortex.quickshow` to visualize the BOLD data on the flattened surfaces using pycortex.\n",
    "\n",
    "This will take 30 seconds."
   ]
  },
  {
   "cell_type": "code",
   "execution_count": null,
   "metadata": {},
   "outputs": [],
   "source": [
    "# Load functional data\n",
    "bold_path = \"path to bold.nii.gz\"\n",
    "img = nib.load(bold_path)\n",
    "data = img.get_fdata()\n",
    "\n",
    "# Compute temporal mean\n",
    "mean_vol = np.mean(data, axis=3)\n",
    "\n",
    "# Transpose to match expected orientation (96,96,76) → (76,96,96)\n",
    "mean_vol = np.transpose(mean_vol, (2, 1, 0))\n",
    "\n",
    "# Select cuboid\n",
    "cuboid = np.array([[0, 20, 0], [50, 70, 70]])  # (2, 3) as a pair of (min, max) voxels\n",
    "print(mean_vol.shape)\n",
    "cuboid_slice = tuple(slice(*span) for span in cuboid.transpose())\n",
    "mean_vol_filtered = np.zeros_like(mean_vol)\n",
    "mean_vol_filtered[cuboid_slice] = mean_vol[cuboid_slice]\n",
    "mean_vol = mean_vol_filtered\n",
    "\n",
    "\n",
    "# Create Volume object for visualization\n",
    "vol = cortex.Volume(\n",
    "    mean_vol,\n",
    "    subject=\"sub-01\",\n",
    "    depth=1,\n",
    "    height=512,\n",
    "    xfmname=\"full\",\n",
    "    vmin=np.min(mean_vol),\n",
    "    vmax=np.max(mean_vol),\n",
    ")\n",
    "\n",
    "# Display the visualization\n",
    "cortex.quickshow(vol, with_colorbar=True, recache=True)\n",
    "plt.show()"
   ]
  }
 ],
 "metadata": {
  "kernelspec": {
   "display_name": "Python 3",
   "language": "python",
   "name": "python3"
  },
  "language_info": {
   "codemirror_mode": {
    "name": "ipython",
    "version": 3
   },
   "file_extension": ".py",
   "mimetype": "text/x-python",
   "name": "python",
   "nbconvert_exporter": "python",
   "pygments_lexer": "ipython3",
   "version": "3.10.17"
  }
 },
 "nbformat": 4,
 "nbformat_minor": 4
}
