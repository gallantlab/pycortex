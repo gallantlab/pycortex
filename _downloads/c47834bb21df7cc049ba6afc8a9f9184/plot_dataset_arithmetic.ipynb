{
  "cells": [
    {
      "cell_type": "markdown",
      "metadata": {},
      "source": [
        "\n# Dataset Arithmetic\n\nThis plots example volume data onto an example subject, S1, onto a flatmap\nusing quickflat. In order for this to run, you have to have a flatmap for\nthis subject in the pycortex filestore.\n\nOnce you have created a cortex.Volume object, you can manipulate it with\nnormal arithmetic operators like +, -, *, /, and **\n"
      ]
    },
    {
      "cell_type": "code",
      "execution_count": null,
      "metadata": {
        "collapsed": false
      },
      "outputs": [],
      "source": [
        "import cortex\nimport numpy as np\nnp.random.seed(1234)\nimport matplotlib.pyplot as plt\n\nsubject = 'S1'\nxfm = 'fullhead'\n\n# Creating a random dataset that is the shape for this transform with one\n# entry for each voxel\ntest_data = np.random.randn(31, 100, 100)\n\n# This creates a Volume object for our test dataset for the given subject\n# and transform\nvol_data = cortex.Volume(test_data, subject, xfm, vmin=-2, vmax=2)\ncortex.quickshow(vol_data)\nplt.show()\n\n# Now you can do arithmetic with the Volume\nvol_plus = vol_data + 1\ncortex.quickshow(vol_plus)\nplt.show()\n\n# You can also do multiplication\nvol_mult = vol_data * 4\ncortex.quickshow(vol_mult)\nplt.show()"
      ]
    }
  ],
  "metadata": {
    "kernelspec": {
      "display_name": "Python 3",
      "language": "python",
      "name": "python3"
    },
    "language_info": {
      "codemirror_mode": {
        "name": "ipython",
        "version": 3
      },
      "file_extension": ".py",
      "mimetype": "text/x-python",
      "name": "python",
      "nbconvert_exporter": "python",
      "pygments_lexer": "ipython3",
      "version": "3.9.21"
    }
  },
  "nbformat": 4,
  "nbformat_minor": 0
}