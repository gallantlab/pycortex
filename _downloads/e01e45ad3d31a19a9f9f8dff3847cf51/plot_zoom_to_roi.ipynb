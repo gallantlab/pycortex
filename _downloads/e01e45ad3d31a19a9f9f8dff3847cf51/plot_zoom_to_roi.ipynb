{
  "cells": [
    {
      "cell_type": "markdown",
      "metadata": {},
      "source": [
        "\n# Plotting a zoomed view of one ROI\n\nSometimes it is useful to create a flatmap that is zoomed in one just a single\nROI. The location of the ROI can be inferred automatically, making it easy to\nshow just the region around that ROI.\n"
      ]
    },
    {
      "cell_type": "code",
      "execution_count": null,
      "metadata": {
        "collapsed": false
      },
      "outputs": [],
      "source": [
        "# sphinx_gallery_thumbnail_number = 2\n\nimport cortex\nimport numpy as np\nnp.random.seed(1234)\nfrom matplotlib import pyplot as plt\n\ndef zoom_to_roi(subject, roi, hem, margin=10.0):\n    roi_verts = cortex.get_roi_verts(subject, roi)[roi]\n    roi_map = cortex.Vertex.empty(subject)\n    roi_map.data[roi_verts] = 1\n    \n    (lflatpts, lpolys), (rflatpts, rpolys) = cortex.db.get_surf(subject, \"flat\",\n                                                                nudge=True)\n    sel_pts = dict(left=lflatpts, right=rflatpts)[hem]\n    roi_pts = sel_pts[np.nonzero(getattr(roi_map, hem))[0],:2]\n    \n    xmin, ymin = roi_pts.min(0) - margin\n    xmax, ymax = roi_pts.max(0) + margin\n    plt.axis([xmin, xmax, ymin, ymax])\n\n# Create dataset\ndata = cortex.Volume.random('S1', 'fullhead')\n\n# Plot it using quickflat\ncortex.quickshow(data)\n\n# Zoom on just one region\nzoom_to_roi('S1', 'AC', 'left')\n\n# notice that the quality of this figure is now quite poor/grainy\n# we can improve this by changing the 'height' argument to quickflat\n\ncortex.quickshow(data, height=2048)\nzoom_to_roi('S1', 'AC', 'left')"
      ]
    }
  ],
  "metadata": {
    "kernelspec": {
      "display_name": "Python 3",
      "language": "python",
      "name": "python3"
    },
    "language_info": {
      "codemirror_mode": {
        "name": "ipython",
        "version": 3
      },
      "file_extension": ".py",
      "mimetype": "text/x-python",
      "name": "python",
      "nbconvert_exporter": "python",
      "pygments_lexer": "ipython3",
      "version": "3.9.19"
    }
  },
  "nbformat": 4,
  "nbformat_minor": 0
}