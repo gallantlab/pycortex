{
  "cells": [
    {
      "cell_type": "markdown",
      "metadata": {},
      "source": [
        "\n# Plot Example Retinotopy Flatmaps\n\nThis demo shows how to plot example retinotopy data onto a subject's brain\non a flatmap. In order for this demo to work, you need to download this\ndataset_, but that can also be done automatically through the `urllib`\ncommand that is included.\n\n\n\nS1 is the example subject that comes with pycortex, but if you want to plot\ndata onto a different subject, you will need to have them in your filestore,\nand you will also need a flatmap for them.\n"
      ]
    },
    {
      "cell_type": "code",
      "execution_count": null,
      "metadata": {
        "collapsed": false
      },
      "outputs": [],
      "source": [
        "import cortex\nimport matplotlib.pyplot as plt\nfrom urllib.request import urlretrieve\n\n\n# Download the dataset and load it\n_ = urlretrieve(\n    \"https://s3.us-west-1.wasabisys.com/glab-public-datasets/S1_retinotopy.hdf\", \n    \"S1_retinotopy.hdf\"\n)\nret_data = cortex.load(\"S1_retinotopy.hdf\")\n\n# The retinotopy data has to be divided into left and right hemispheres\nleft_data = ret_data.angle_left\ncortex.quickshow(left_data, with_curvature=True, \n\t\t\t\t\t\t\tcurvature_contrast=0.5, \n\t\t\t\t\t\t\tcurvature_brightness=0.5, \n\t\t\t\t\t\t\tcurvature_threshold=True)\nplt.show()\n\nright_data = ret_data.angle_right\ncortex.quickshow(right_data, with_curvature=True, \n\t\t\t\t\t\t\t curvature_contrast=0.5, \n\t\t\t\t\t\t\t curvature_brightness=0.5, \n\t\t\t\t\t\t\t curvature_threshold=True)\nplt.show()"
      ]
    }
  ],
  "metadata": {
    "kernelspec": {
      "display_name": "Python 3",
      "language": "python",
      "name": "python3"
    },
    "language_info": {
      "codemirror_mode": {
        "name": "ipython",
        "version": 3
      },
      "file_extension": ".py",
      "mimetype": "text/x-python",
      "name": "python",
      "nbconvert_exporter": "python",
      "pygments_lexer": "ipython3",
      "version": "3.9.19"
    }
  },
  "nbformat": 4,
  "nbformat_minor": 0
}