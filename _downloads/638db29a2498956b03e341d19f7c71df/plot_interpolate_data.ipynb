{
  "cells": [
    {
      "cell_type": "markdown",
      "metadata": {},
      "source": [
        "\n# Interpolate Data\n\nIn this example we show how to interpolate data from a sparse collection of points\nto all the points in the cortical surface.\n\nThe method used here is biharmonic interpolation, which finds the solution with\nthe minimum squared Laplacian (fourth derivative) that still passes through all\nthe selected points. This is similar to thin plate splines.\n"
      ]
    },
    {
      "cell_type": "code",
      "execution_count": null,
      "metadata": {
        "collapsed": false
      },
      "outputs": [],
      "source": [
        "import cortex\nfrom cortex.polyutils import Surface\nimport numpy as np\nnp.random.seed(1234)\nfrom matplotlib import pyplot as plt\n\nsubject = \"S1\"\n\n# First we need to import the surfaces for this subject\nlsurf, rsurf = [Surface(*d) for d in cortex.db.get_surf(subject, \"fiducial\")]\n\n# Let's choose a few points and generate data for them\nselected_pts = np.arange(len(lsurf.pts), step=5000)\nnum_selected_pts = len(selected_pts)\nsparse_data = np.random.randn(num_selected_pts)\n\n# Then interpolate\ninterp_data = lsurf.interp(selected_pts, sparse_data)\n\n# Plot the result\n# interp_data is only for the left hemisphere, but the Vertex constructor\n# infers that and fills the right hemisphere with zeros\ninterp_vertex = cortex.Vertex(interp_data[:,0], subject, \n                              vmin=-2, vmax=2, cmap='RdBu_r')\ncortex.quickshow(interp_vertex, with_labels=False, with_rois=False)\n\n\n# plot the locations of the points we selected originally\n\n# nudge=True puts both left and right hemispheres in the same space, moving them\n# so that they don't overlap. These are the coordinates used in quickflat\n(lflatpts, lpolys), (rflatpts, rpolys) = cortex.db.get_surf(subject, \"flat\", \n                                                            nudge=True)\n\nax = plt.gca()\n# zorder is set to 10 to make sure points go on top of other quickflat layers\nax.scatter(lflatpts[selected_pts,0], lflatpts[selected_pts,1], s=50, \n           c=sparse_data, vmin=-2, vmax=2, cmap=plt.cm.RdBu_r, zorder=10)\n\n\n# the interpolate function can also handle multiple dimensions at the same time\n# (this takes a while to run for no plotting, and thus is commented out)\n#sparse_data_2d = np.random.randn(10, num_selected_pts)\n#interp_data_2d = lsurf.interp(selected_pts, sparse_data_2d)\n\n# > interp_data_2d.shape\n# (152893, 10)\nplt.show()"
      ]
    }
  ],
  "metadata": {
    "kernelspec": {
      "display_name": "Python 3",
      "language": "python",
      "name": "python3"
    },
    "language_info": {
      "codemirror_mode": {
        "name": "ipython",
        "version": 3
      },
      "file_extension": ".py",
      "mimetype": "text/x-python",
      "name": "python",
      "nbconvert_exporter": "python",
      "pygments_lexer": "ipython3",
      "version": "3.9.21"
    }
  },
  "nbformat": 4,
  "nbformat_minor": 0
}