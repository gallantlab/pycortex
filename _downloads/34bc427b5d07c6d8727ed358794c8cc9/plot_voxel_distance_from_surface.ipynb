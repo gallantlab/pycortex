{
  "cells": [
    {
      "cell_type": "markdown",
      "metadata": {},
      "source": [
        "\n# Voxel distance from surface\n\nThe utility function `get_vox_dist` returns the distance from each voxel in some space to the nearest vertex on the given surface. This function is used for generating ROI masks, cortical masks, etc.\n"
      ]
    },
    {
      "cell_type": "code",
      "execution_count": null,
      "metadata": {
        "collapsed": false
      },
      "outputs": [],
      "source": [
        "import cortex\nimport matplotlib.pyplot as plt\n\n# get distance to nearest point on the mid-cortical (fiducial) surface from each\n# voxel in the functional space for subject 'S1' and the transform 'fullhead'\ndist, argdist = cortex.get_vox_dist(subject='S1', \n                                    xfmname='fullhead', \n                                    surface='fiducial')\n\n# dist contains the distance from each voxel to the nearest vertex\n# dist.shape = (31, 100, 100) <-- the same size as the functional volume\n\n# argdist contains the index of the nearest vertex to each voxel\n# argdist.shape = (31, 100, 100) <-- the same size as the functional volume\n\n# let's visualize the distance field using the mosaic function\ncortex.mosaic(dist, cmap=plt.cm.plasma)\nplt.colorbar(label='mm from surface')"
      ]
    }
  ],
  "metadata": {
    "kernelspec": {
      "display_name": "Python 3",
      "language": "python",
      "name": "python3"
    },
    "language_info": {
      "codemirror_mode": {
        "name": "ipython",
        "version": 3
      },
      "file_extension": ".py",
      "mimetype": "text/x-python",
      "name": "python",
      "nbconvert_exporter": "python",
      "pygments_lexer": "ipython3",
      "version": "3.9.21"
    }
  },
  "nbformat": 4,
  "nbformat_minor": 0
}