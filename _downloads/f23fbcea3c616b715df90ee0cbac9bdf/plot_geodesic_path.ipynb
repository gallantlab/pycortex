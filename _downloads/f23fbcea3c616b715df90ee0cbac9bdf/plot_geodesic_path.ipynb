{
  "cells": [
    {
      "cell_type": "markdown",
      "metadata": {},
      "source": [
        "\n# Plotting Geodesic Paths\n\nThis will plot a geodesic path between two vertices on the cortical surface.\nThis path is based on geodesic distances across the surface. The path starts\nat the given endpoint and selects the neighbor of that point in the surface\nmap that is closest to the other endpoint. This process continues iteratilvely\nuntil the last vertex in the path is the endpoint you gave to it.\n\nAll you need to do is supply a surface object and two vertices on that surface\nand you can find the geodesic path. This script additionally makes a plot to\nshow all of the vertices listed in the path.\n"
      ]
    },
    {
      "cell_type": "code",
      "execution_count": null,
      "metadata": {
        "collapsed": false
      },
      "outputs": [],
      "source": [
        "import cortex\nimport cortex.polyutils\nimport numpy as np\nimport matplotlib.pyplot as plt\n\nsubject = \"S1\"\n\n# First we need to import the surfaces for this subject\nsurfs = [cortex.polyutils.Surface(*d)\n         for d in cortex.db.get_surf(subject, \"fiducial\")]\nnuml = surfs[0].pts.shape[0]\nnumr = surfs[1].pts.shape[0]\nnum_vertices = numl + numr\n\n# Now we need to pick the start and end points of the line we will draw\npt_a = 100\npt_b = 50000\n\n# Then we find the geodesic path between these points\npath = surfs[0].geodesic_path(pt_a, pt_b)\n\n# In order to plot this on the cortical surface, we need an array that is the\n# same size as the number of vertices\npath_data = np.zeros(num_vertices) * np.nan\nfor v in path:\n    path_data[v] = 1\n\n# And now plot these distances onto the cortical surface\npath_verts = cortex.Vertex(path_data, subject, cmap=\"Reds\", vmin=0, vmax=1)\ncortex.quickshow(path_verts, with_colorbar=False, with_curvature=True)\nplt.show()"
      ]
    }
  ],
  "metadata": {
    "kernelspec": {
      "display_name": "Python 3",
      "language": "python",
      "name": "python3"
    },
    "language_info": {
      "codemirror_mode": {
        "name": "ipython",
        "version": 3
      },
      "file_extension": ".py",
      "mimetype": "text/x-python",
      "name": "python",
      "nbconvert_exporter": "python",
      "pygments_lexer": "ipython3",
      "version": "3.9.19"
    }
  },
  "nbformat": 4,
  "nbformat_minor": 0
}