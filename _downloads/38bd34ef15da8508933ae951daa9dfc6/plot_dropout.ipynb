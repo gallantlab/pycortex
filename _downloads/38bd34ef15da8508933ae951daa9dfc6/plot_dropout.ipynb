{
  "cells": [
    {
      "cell_type": "markdown",
      "metadata": {},
      "source": [
        "\n# Plot dropout regions on the flatmap\n\nA dropout region is a region with very low EPI signal. In pycortex a\ncrosshatch is used to display such dropout regions.\n\nThe crosshatches are created using the reference nifti image file\nwith a threshold.\nSetting the `with_dropout=True` parameter in `quickflat.make_figure`\ntakes the reference nifti image file and computes a thresholded version\nof this using the following formula:\n\n    FIXME:\n    .. code-block:: python\n        rawdata[rawdata==0] = np.mean(rawdata[rawdata!=0])\n        normdata = (rawdata - rawdata.min()) / (rawdata.max() - rawdata.min())\n        normdata = (1 - normdata) ** power\n"
      ]
    },
    {
      "cell_type": "code",
      "execution_count": null,
      "metadata": {
        "collapsed": false
      },
      "outputs": [],
      "source": [
        "import cortex\nimport numpy as np\nnp.random.seed(1234)\n\n# Create a random pycortex Volume\nvolume = cortex.Volume.random(subject='S1', xfmname='fullhead')\n\n# Plot a flatmap with the data projected onto the surface\n# Highlight the curvature and dropout regions\n_ = cortex.quickflat.make_figure(volume,\n                                 with_curvature=True,\n                                 with_dropout=True)"
      ]
    }
  ],
  "metadata": {
    "kernelspec": {
      "display_name": "Python 3",
      "language": "python",
      "name": "python3"
    },
    "language_info": {
      "codemirror_mode": {
        "name": "ipython",
        "version": 3
      },
      "file_extension": ".py",
      "mimetype": "text/x-python",
      "name": "python",
      "nbconvert_exporter": "python",
      "pygments_lexer": "ipython3",
      "version": "3.9.19"
    }
  },
  "nbformat": 4,
  "nbformat_minor": 0
}