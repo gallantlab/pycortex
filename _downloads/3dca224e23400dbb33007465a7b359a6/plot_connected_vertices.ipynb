{
  "cells": [
    {
      "cell_type": "markdown",
      "metadata": {},
      "source": [
        "\n# Plot which vertices are inside the same voxels\n\nShow lines connecting vertices on the flatmap that are actually within the same\nvoxels in a given scan.\n\nHere, we used advanced compositing to be explicit about display options for the\nconnecting lines.\n"
      ]
    },
    {
      "cell_type": "code",
      "execution_count": null,
      "metadata": {
        "collapsed": false
      },
      "outputs": [],
      "source": [
        "import cortex\nimport numpy as np\nimport matplotlib.pyplot as plt\n\n# Create an empty pycortex Volume\nvolume = cortex.Volume.empty(subject='S1', xfmname='retinotopy', value=np.nan)\n\n# Plot a flatmap with the data projected onto the surface\nfig = cortex.quickflat.make_figure(volume, with_curvature=True, with_colorbar=False)\n\n# Advanced compositing addition of connected vertices.\n# Note that this will not currently resize correctly with a figure.\nlines = cortex.quickflat.composite.add_connected_vertices(fig, volume,\n            exclude_border_width=None, color=(1.0, 0.5, 0.1, 0.6), linewidth=0.75,\n            alpha=0.3, recache=True)\nplt.show()"
      ]
    }
  ],
  "metadata": {
    "kernelspec": {
      "display_name": "Python 3",
      "language": "python",
      "name": "python3"
    },
    "language_info": {
      "codemirror_mode": {
        "name": "ipython",
        "version": 3
      },
      "file_extension": ".py",
      "mimetype": "text/x-python",
      "name": "python",
      "nbconvert_exporter": "python",
      "pygments_lexer": "ipython3",
      "version": "3.9.21"
    }
  },
  "nbformat": 4,
  "nbformat_minor": 0
}