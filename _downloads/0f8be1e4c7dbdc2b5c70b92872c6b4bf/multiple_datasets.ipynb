{
  "cells": [
    {
      "cell_type": "markdown",
      "metadata": {},
      "source": [
        "\n# Create a 3D WebGL Viewer with Multiple Datasets\n\nA webgl viewer displays a 3D view of brain data in a web browser\n\nMultiple datasets can be loaded into the same viewer\n\nThe `priority` kwarg passed to Volume objects determines the display ordering\n\nLower values of `priority` are displayed first\n\nIn the browser you can switch between datasets with the + and - keys\n"
      ]
    },
    {
      "cell_type": "code",
      "execution_count": null,
      "metadata": {
        "collapsed": false
      },
      "outputs": [],
      "source": [
        "import cortex\n\nimport numpy as np\nnp.random.seed(1234)\n\n# gather multiple datasets\nvolume1 = cortex.Volume.random(subject='S1', xfmname='fullhead', priority=1)\nvolume2 = cortex.Volume.random(subject='S1', xfmname='fullhead', priority=2)\nvolume3 = cortex.Volume.random(subject='S1', xfmname='fullhead', priority=3)\nvolumes = {\n\t'First Dataset': volume1,\n\t'Second Dataset': volume2,\n\t'Third Dataset': volume3,\n}\n\n# create viewer\ncortex.webgl.show(data=volumes)\n\n# a port number will then be output, for example \"Started server on port 39140\"\n# the viewer can then be accessed in a web browser, in this case at \"localhost:39140\""
      ]
    }
  ],
  "metadata": {
    "kernelspec": {
      "display_name": "Python 3",
      "language": "python",
      "name": "python3"
    },
    "language_info": {
      "codemirror_mode": {
        "name": "ipython",
        "version": 3
      },
      "file_extension": ".py",
      "mimetype": "text/x-python",
      "name": "python",
      "nbconvert_exporter": "python",
      "pygments_lexer": "ipython3",
      "version": "3.9.19"
    }
  },
  "nbformat": 4,
  "nbformat_minor": 0
}