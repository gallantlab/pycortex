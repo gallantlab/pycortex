{
  "cells": [
    {
      "cell_type": "markdown",
      "metadata": {},
      "source": [
        "\n# Get ROI Index Volume\n\nCreate an index volume (similar to the aseg masks in freesurfer) with a different \ninteger index for each ROI. ROIs in the left hemisphere will have negative values,\nROIs in the right hemisphere will have positive values.\n"
      ]
    },
    {
      "cell_type": "code",
      "execution_count": null,
      "metadata": {
        "collapsed": false
      },
      "outputs": [],
      "source": [
        "import cortex\nimport numpy as np\nimport matplotlib.pyplot as plt\n\nsubject = \"S1\"\nxfm = \"fullhead\"\n\n# Get the map of which voxels are inside of our ROI\nindex_volume, index_keys = cortex.utils.get_roi_masks(subject, xfm, \n                               roi_list=None, # Default (None) gives all available ROIs in overlays.svg\n                               gm_sampler='cortical-conservative', # Select only voxels mostly within cortex\n                               split_lr=True, # Separate left/right ROIs (this occurs anyway with index volumes)\n                               threshold=0.9, # convert probability values to boolean mask for each ROI\n                               return_dict=False # return index volume, not dict of masks\n                               )\n\nlim = np.max(np.abs(index_volume))\n# Plot the mask for one ROI onto a flatmap\nroi_data = cortex.Volume(index_volume, subject, xfm, \n                         vmin=-lim, # This is a probability mask, so only\n                         vmax=lim, # so scale btw zero and one\n                         cmap=\"RdBu_r\", # Shades of blue for L hem, red for R hem ROIs\n                         )\n\ncortex.quickflat.make_figure(roi_data,\n                             thick=1, # select a single depth (btw white matter & pia)\n                             sampler='nearest', # no interpolation\n                             with_curvature=True,\n                             with_colorbar=True,\n                             )\nprint(\"Index keys for which ROI is which in `index_volume`:\")\nprint(index_keys)\nplt.show()"
      ]
    }
  ],
  "metadata": {
    "kernelspec": {
      "display_name": "Python 3",
      "language": "python",
      "name": "python3"
    },
    "language_info": {
      "codemirror_mode": {
        "name": "ipython",
        "version": 3
      },
      "file_extension": ".py",
      "mimetype": "text/x-python",
      "name": "python",
      "nbconvert_exporter": "python",
      "pygments_lexer": "ipython3",
      "version": "3.9.21"
    }
  },
  "nbformat": 4,
  "nbformat_minor": 0
}