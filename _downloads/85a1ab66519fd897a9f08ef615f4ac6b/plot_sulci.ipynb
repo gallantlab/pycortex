{
  "cells": [
    {
      "cell_type": "markdown",
      "metadata": {},
      "source": [
        "\n# Plot sulci on the flatmap\n\nThe sulci are defined in a sub-layer of the sulci layer in\n<filestore>/<subject>/overlays.svg.\n\nThe parameter `with_sulci` in `quickflat.make_figure` controls\ndisplaying the sulci on the surface.\n"
      ]
    },
    {
      "cell_type": "code",
      "execution_count": null,
      "metadata": {
        "collapsed": false
      },
      "outputs": [],
      "source": [
        "import cortex\nimport numpy as np\nnp.random.seed(1234)\n\n# Create a random pycortex Volume\nvolume = cortex.Volume.random(subject='S1', xfmname='fullhead')\n\n# Plot a flatmap with the data projected onto the surface\n# Highlight the curvature and display the sulci\n_ = cortex.quickflat.make_figure(volume,\n                                 with_curvature=True,\n                                 with_sulci=True)"
      ]
    }
  ],
  "metadata": {
    "kernelspec": {
      "display_name": "Python 3",
      "language": "python",
      "name": "python3"
    },
    "language_info": {
      "codemirror_mode": {
        "name": "ipython",
        "version": 3
      },
      "file_extension": ".py",
      "mimetype": "text/x-python",
      "name": "python",
      "nbconvert_exporter": "python",
      "pygments_lexer": "ipython3",
      "version": "3.9.19"
    }
  },
  "nbformat": 4,
  "nbformat_minor": 0
}