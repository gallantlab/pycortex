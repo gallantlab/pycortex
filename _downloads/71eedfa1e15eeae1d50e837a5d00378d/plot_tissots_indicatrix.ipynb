{
  "cells": [
    {
      "cell_type": "markdown",
      "metadata": {},
      "source": [
        "\n# Tissot's Indicatrix\n\nCreating a flatmap from a folded cortical surface always introduces some\ndistortion. This is similar to what happens when a map of the globe is flattened\ninto a 2-D map like a Mercator projection. For the cortical surface the amount\nand type of distortion will depend on the curvature of the surface (i.e. whether\nit is on a gyrus or a sulcus) and on the distance to the nearest cut.\n\nIn general, we recommend examining data both in flattened and original 3-D space\nusing the interactive webGL viewer, but it is also informative to visualize the\ndistortion directly.\n\nOne method to show distortion is to visualize how geodesic discs, which contain\nall of the points within some geodesic distance of a central point, appear on the\nflattened cortical surface. \n\nThis technique is traditionally used to characterize and visualize distortions\nintroduced by flattening the globe onto a map:\n\n<img src=\"https://upload.wikimedia.org/wikipedia/commons/8/87/Tissot_mercator.png\">\n"
      ]
    },
    {
      "cell_type": "code",
      "execution_count": null,
      "metadata": {
        "collapsed": false
      },
      "outputs": [],
      "source": [
        "import cortex\nimport matplotlib.pyplot as plt\n\ntissot = cortex.db.get_surfinfo(\"S1\", \"tissots_indicatrix\", radius=10, spacing=30)\ntissot.cmap = 'plasma'\n\ncortex.quickshow(tissot, with_labels=False, with_rois=False, with_colorbar=False)\n\nplt.show()"
      ]
    }
  ],
  "metadata": {
    "kernelspec": {
      "display_name": "Python 3",
      "language": "python",
      "name": "python3"
    },
    "language_info": {
      "codemirror_mode": {
        "name": "ipython",
        "version": 3
      },
      "file_extension": ".py",
      "mimetype": "text/x-python",
      "name": "python",
      "nbconvert_exporter": "python",
      "pygments_lexer": "ipython3",
      "version": "3.9.19"
    }
  },
  "nbformat": 4,
  "nbformat_minor": 0
}