{
  "cells": [
    {
      "cell_type": "markdown",
      "metadata": {},
      "source": [
        "\n# Multi-panels figures\n\nThe function `cortex.export.plot_panels` plots a number of 3d views of a given\nvolume, in the same matplotlib figure. It does that by saving a temporary image\nfor each view, and then aggregating them in the same figure.\n\nThe function needs to be run on a system with a display, since it will launch\na webgl viewer. The best way to get the expected results is to keep the webgl\nviewer visible during the process.\n\nThe selection of views and the aggregation is controlled by a list of \"panels\".\nExamples of panels can be imported with:\n\n    from cortex.export import params_flatmap_lateral_medial\n    from cortex.export import params_occipital_triple_view\n"
      ]
    },
    {
      "cell_type": "code",
      "execution_count": null,
      "metadata": {
        "collapsed": false
      },
      "outputs": [],
      "source": [
        "import os\nimport tempfile\n\nimport numpy as np\nimport matplotlib.pyplot as plt\n\nimport cortex\n\nsubject = 'S1'"
      ]
    },
    {
      "cell_type": "markdown",
      "metadata": {},
      "source": [
        "create some artificial data\n\n"
      ]
    },
    {
      "cell_type": "code",
      "execution_count": null,
      "metadata": {
        "collapsed": false
      },
      "outputs": [],
      "source": [
        "shape = cortex.db.get_xfm(subject, 'identity').shape\ndata = np.arange(np.prod(shape)).reshape(shape)\nvolume = cortex.Volume(data, subject=subject, xfmname='identity')"
      ]
    },
    {
      "cell_type": "markdown",
      "metadata": {},
      "source": [
        "Show examples of multi-panels figures\n\n"
      ]
    },
    {
      "cell_type": "code",
      "execution_count": null,
      "metadata": {
        "collapsed": false
      },
      "outputs": [],
      "source": [
        "params = cortex.export.params_flatmap_lateral_medial\ncortex.export.plot_panels(volume, **params)\nplt.show()\n\nparams = cortex.export.params_occipital_triple_view\ncortex.export.plot_panels(volume, **params)\nplt.show()"
      ]
    },
    {
      "cell_type": "markdown",
      "metadata": {},
      "source": [
        "List all predefined angles\n\n"
      ]
    },
    {
      "cell_type": "code",
      "execution_count": null,
      "metadata": {
        "collapsed": false
      },
      "outputs": [],
      "source": [
        "base_name = os.path.join(tempfile.mkdtemp(), 'fig')\nlist_angles = list(cortex.export.save_views.angle_view_params.keys())\n\nfilenames = cortex.export.save_3d_views(\n    volume, base_name=base_name, list_angles=list_angles,\n    list_surfaces=['inflated'] * len(list_angles))\n\nfor filename, angle in zip(filenames, list_angles):\n    plt.imshow(plt.imread(filename))\n    plt.axis('off')\n    plt.title(angle)\n    plt.show()"
      ]
    },
    {
      "cell_type": "markdown",
      "metadata": {},
      "source": [
        "List all predefined surfaces\n\n"
      ]
    },
    {
      "cell_type": "code",
      "execution_count": null,
      "metadata": {
        "collapsed": false
      },
      "outputs": [],
      "source": [
        "base_name = os.path.join(tempfile.mkdtemp(), 'fig')\nlist_surfaces = list(cortex.export.save_views.unfold_view_params.keys())\n\nfilenames = cortex.export.save_3d_views(\n    volume, base_name=base_name,\n    list_angles=['lateral_pivot'] * len(list_surfaces),\n    list_surfaces=list_surfaces)\n\nfor filename, surface in zip(filenames, list_surfaces):\n    plt.imshow(plt.imread(filename))\n    plt.axis('off')\n    plt.title(surface)\n    plt.show()"
      ]
    }
  ],
  "metadata": {
    "kernelspec": {
      "display_name": "Python 3",
      "language": "python",
      "name": "python3"
    },
    "language_info": {
      "codemirror_mode": {
        "name": "ipython",
        "version": 3
      },
      "file_extension": ".py",
      "mimetype": "text/x-python",
      "name": "python",
      "nbconvert_exporter": "python",
      "pygments_lexer": "ipython3",
      "version": "3.9.21"
    }
  },
  "nbformat": 4,
  "nbformat_minor": 0
}