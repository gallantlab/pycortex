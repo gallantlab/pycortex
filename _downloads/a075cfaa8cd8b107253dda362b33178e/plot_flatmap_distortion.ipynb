{
  "cells": [
    {
      "cell_type": "markdown",
      "metadata": {},
      "source": [
        "\n# Flatmap Distortion\n\nCreating a flatmap from a folded cortical surface always introduces some\ndistortion. This is similar to what happens when a map of the globe is flattened\ninto a 2-D map like a Mercator projection. For the cortical surface the amount\nand type of distortion will depend on the curvature of the surface (i.e. whether\nit is on a gyrus or a sulcus) and on the distance to the nearest cut.\n\nIn general, we recommend examining data both in flattened and original 3-D space\nusing the interactive webGL viewer, but it is also informative to visualize the\ndistortion directly.\n\nHere we demonstrate how to compute and display both areal distortion, which is a\nmeasure of how different the area of each triangle in the flattened mesh is from\nits area in the original mesh, and metric distortion, which is a measure of how\ndifferent the length of each edge in the flattened mesh is from its length in\nthe original.\n"
      ]
    },
    {
      "cell_type": "code",
      "execution_count": null,
      "metadata": {
        "collapsed": false
      },
      "outputs": [],
      "source": [
        "import cortex\nfrom cortex.polyutils import Distortion\nimport matplotlib.pyplot as plt\n\nsubject = \"S1\"\n\n# First let's load the surface and compute the distortion directly using the\n# Distortion class\n\n# load fiducial (mid-cortical) surfaces\n# we're ignoring the right hemisphere surface here\n# the polys (triangles) are the same for the fiducial and flat surfaces\n(lfidpts, lpolys), _ = cortex.db.get_surf(subject, \"fiducial\")\n\n# load flattened surfaces\n(lflatpts, lpolys), _ = cortex.db.get_surf(subject, \"flat\")\n\n# Create the Distortion object\ndist = Distortion(lflatpts, lfidpts, lpolys)\n\n# Compute areal distortion\n# this returns an array of values for each vertex, which we will put into\n# a Vertex object for plotting\nareal_dist = cortex.Vertex(dist.areal, subject, vmin=-2, vmax=2)\n# areal distortion is in log_2 units (e.g. -1 is half the area, 1 is double)\n\ncortex.quickshow(areal_dist, with_rois=False, with_labels=False)\n\n\n# Next compute metric distortion\nmetric_dist = cortex.Vertex(dist.metric, subject, vmin=-2, vmax=2)\n# metric distortion is in mm (e.g. -1 means flatmap edge is 1 mm shorter)\n\ncortex.quickshow(metric_dist, with_rois=False, with_labels=False)\n\n\n# Both of these distortion metrics can also be fetched easily via the pycortex\n# database\n\n# these also return Vertex objects like those we created above\nareal_dist_2 = cortex.db.get_surfinfo(subject, \"distortion\", dist_type=\"areal\")\nmetric_dist_2 = cortex.db.get_surfinfo(subject, \"distortion\", dist_type=\"metric\")\n\nplt.show()"
      ]
    }
  ],
  "metadata": {
    "kernelspec": {
      "display_name": "Python 3",
      "language": "python",
      "name": "python3"
    },
    "language_info": {
      "codemirror_mode": {
        "name": "ipython",
        "version": 3
      },
      "file_extension": ".py",
      "mimetype": "text/x-python",
      "name": "python",
      "nbconvert_exporter": "python",
      "pygments_lexer": "ipython3",
      "version": "3.9.21"
    }
  },
  "nbformat": 4,
  "nbformat_minor": 0
}