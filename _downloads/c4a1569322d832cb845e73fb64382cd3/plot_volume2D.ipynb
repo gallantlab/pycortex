{
  "cells": [
    {
      "cell_type": "markdown",
      "metadata": {},
      "source": [
        "\n# Plot 2D Volume Data\n\nThis plots example volume data onto an example subject, S1, onto a flatmap\nusing quickflat. In order for this to run, you have to have a flatmap for\nthis subject in the pycortex filestore.\n\nThe cortex.Volume2D object is instantiated with two numpy arrays of the same\nsize as the scan for this subject and transform. Here, there are two datasets\nthat have been generated to look like gradients across the brain, but you can\nreplace these with any numpy arrays of the correct dimensionality.\n\nThe colormap used in the first two flatmaps is\n\n<img src=\"file://../../../filestore/colormaps/RdBu_covar.png\">\n\nAs with a 1D Volume, you can change vmin and vmax to threshold, but here\nthey can be manipulated individually for the two arrays.\n\nYou can also change the colormap when creating a new 2D volume.  The colormap\nused in the last flatmap is\n\n<img src=\"file://../../../filestore/colormaps/GreenWhiteBlue_2D.png\">\n"
      ]
    },
    {
      "cell_type": "code",
      "execution_count": null,
      "metadata": {
        "collapsed": false
      },
      "outputs": [],
      "source": [
        "import cortex\nimport numpy as np\nimport matplotlib.pyplot as plt\n\nsubject = \"S1\"\nxfm = \"fullhead\"\n\n# Creating two different test datasets that are both the same shape as this\n# transform with one entry for each voxel\n# The matrices have just been reordered in different ways so that they make\n# gradients across the brain in different directions\ntest_data1 = np.arange(31 * 100 * 100).reshape((31, 100, 100), order='C')\ntest_data2 = np.arange(31 * 100 * 100).reshape((31, 100, 100), order='F')\n\n# This creates a 2D Volume object for both of our test datasets for the given\n# subject and transform\nvol_data = cortex.Volume2D(test_data1, test_data2, subject, xfm)\ncortex.quickshow(vol_data, with_colorbar=False)\nplt.show()\n\n# You can alter the minimum and maximum values shown on the colorbar and this\n# can be done separately for the two different datasets\nvol_data = cortex.Volume2D(test_data1, test_data2, subject, xfm,\n                           vmin=np.mean(test_data1), vmax=np.max(test_data1),\n                           vmin2=np.min(test_data2), vmax2=np.mean(test_data2))\ncortex.quickshow(vol_data, with_colorbar=False)\nplt.show()\n\n# To change the colormap, you have to create a new Volume2D object\nvol_color = cortex.Volume2D(test_data1, test_data2, subject, xfm,\n                            cmap=\"GreenWhiteBlue_2D\")\ncortex.quickshow(vol_color, with_colorbar=False)\nplt.show()"
      ]
    }
  ],
  "metadata": {
    "kernelspec": {
      "display_name": "Python 3",
      "language": "python",
      "name": "python3"
    },
    "language_info": {
      "codemirror_mode": {
        "name": "ipython",
        "version": 3
      },
      "file_extension": ".py",
      "mimetype": "text/x-python",
      "name": "python",
      "nbconvert_exporter": "python",
      "pygments_lexer": "ipython3",
      "version": "3.9.21"
    }
  },
  "nbformat": 4,
  "nbformat_minor": 0
}