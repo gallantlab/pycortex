{
  "cells": [
    {
      "cell_type": "markdown",
      "metadata": {},
      "source": [
        "\n# Transform from Subject to MNI Space\n\nPycortex has built-in functionality for linearly transforming data to and from\nstandard atlas spaces (e.g. MNI-152). This functionality is built on top of FSL.\n\nThis example shows how to create a transform from some subject functional space\nto MNI space, and how to apply that transform to a dataset.\n"
      ]
    },
    {
      "cell_type": "code",
      "execution_count": null,
      "metadata": {
        "collapsed": false
      },
      "outputs": [],
      "source": [
        "import cortex\n\n# First let's do this \"manually\", using cortex.mni\nfrom cortex import mni\n\nimport numpy as np\nnp.random.seed(1234)\n\n# This transform is gonna be from one specific functional space for a subject\n# which is defined by the transform (xfm)\ns1_to_mni = mni.compute_mni_transform(subject='S1', xfm='fullhead')\n# s1_to_mni is a 4x4 array describing the transformation in homogeneous corods\n\n# Transform data from subject to MNI space\n# first we will create a dataset to transform\ndata = cortex.Volume.random('S1', 'fullhead')\n\n# then transform it!\nmni_data = mni.transform_to_mni(data, s1_to_mni)\n# mni_data is a nibabel Nifti1Image\n\nmni_data_vol = mni_data.get_fdata() # the actual array, shape=(182,218,182)\n\n# That was the manual method. pycortex can also cache these transforms for you\n# if you get them using the pycortex database\ns1_to_mni_db = cortex.db.get_mnixfm('S1', 'fullhead')\n# this is the same as s1_to_mni, but will return instantly on subsequent calls"
      ]
    }
  ],
  "metadata": {
    "kernelspec": {
      "display_name": "Python 3",
      "language": "python",
      "name": "python3"
    },
    "language_info": {
      "codemirror_mode": {
        "name": "ipython",
        "version": 3
      },
      "file_extension": ".py",
      "mimetype": "text/x-python",
      "name": "python",
      "nbconvert_exporter": "python",
      "pygments_lexer": "ipython3",
      "version": "3.9.21"
    }
  },
  "nbformat": 4,
  "nbformat_minor": 0
}