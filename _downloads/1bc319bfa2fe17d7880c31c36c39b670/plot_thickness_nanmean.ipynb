{
  "cells": [
    {
      "cell_type": "markdown",
      "metadata": {},
      "source": [
        "\n# Ignore NaN (not-a-number) values in thickness mapping\n\nBy default, pycortex quickshow averages across the thickness of the cortex\nfor each pixel in the resulting flatmap. If any of these layers contain a value\nof NaN (not-a-number), then the result of the average will also be Nan. This\nbehavior might be undesirable. To avoid it, pass the argument `nanmean=True` to\n`cortex.quickshow` (or `cortex.quickflat.make_figure`). This will only take the\nmean of the non-NaN values when averaging across the thickness of cortex. A\npixel will only have the value NaN if every voxel between pia and white matter \nhas the value NaN.\n"
      ]
    },
    {
      "cell_type": "code",
      "execution_count": null,
      "metadata": {
        "collapsed": false
      },
      "outputs": [],
      "source": [
        "import cortex\nimport numpy as np\nfrom matplotlib import pyplot as plt\n\n# create dataset with volume of all 1's\nvol = cortex.Volume.empty('S1', 'fullhead', vmin=0, vmax=2) + 1\n\n# set 20% of the values in the dataset to NaN\nvol.data[np.random.rand(*vol.data.shape) > 0.8] = np.nan\n\n\n# plot the volume with nanmean=False\n# here a nan in ANY layer of the thickness mapping will result in a nan\n# in the final image\n# so this image should have many, many holes that show curvature\n# and all the non-hole points should have value of 1\n_ = cortex.quickshow(vol, nanmean=False, with_curvature=True)\n\nplt.show()\n\n# plot the volume with nanmean=True\n# here there should only be a nan in the final image if EVERY layer of the\n# thickness mapping has a nan for the given pixel\n# so this image should have many fewer holes that show curvature\n# and, again, all the non-hole points should have value of 1\n_ = cortex.quickshow(vol, nanmean=True, with_curvature=True)\n\nplt.show()"
      ]
    }
  ],
  "metadata": {
    "kernelspec": {
      "display_name": "Python 3",
      "language": "python",
      "name": "python3"
    },
    "language_info": {
      "codemirror_mode": {
        "name": "ipython",
        "version": 3
      },
      "file_extension": ".py",
      "mimetype": "text/x-python",
      "name": "python",
      "nbconvert_exporter": "python",
      "pygments_lexer": "ipython3",
      "version": "3.9.19"
    }
  },
  "nbformat": 4,
  "nbformat_minor": 0
}