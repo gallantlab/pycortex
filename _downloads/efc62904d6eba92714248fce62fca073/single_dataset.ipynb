{
  "cells": [
    {
      "cell_type": "markdown",
      "metadata": {},
      "source": [
        "\n# Create a 3D WebGL Viewer\n\nA webgl viewer displays a 3D view of brain data in a web browser\n"
      ]
    },
    {
      "cell_type": "code",
      "execution_count": null,
      "metadata": {
        "collapsed": false
      },
      "outputs": [],
      "source": [
        "import cortex\n\nimport numpy as np\nnp.random.seed(1234)\n\n# gather data Volume\nvolume = cortex.Volume.random(subject='S1', xfmname='fullhead')\n\n# create viewer\ncortex.webgl.show(data=volume)\n\n# a port number will then be output, for example \"Started server on port 39140\"\n# the viewer can then be accessed in a web browser, in this case at \"localhost:39140\""
      ]
    }
  ],
  "metadata": {
    "kernelspec": {
      "display_name": "Python 3",
      "language": "python",
      "name": "python3"
    },
    "language_info": {
      "codemirror_mode": {
        "name": "ipython",
        "version": 3
      },
      "file_extension": ".py",
      "mimetype": "text/x-python",
      "name": "python",
      "nbconvert_exporter": "python",
      "pygments_lexer": "ipython3",
      "version": "3.9.19"
    }
  },
  "nbformat": 4,
  "nbformat_minor": 0
}