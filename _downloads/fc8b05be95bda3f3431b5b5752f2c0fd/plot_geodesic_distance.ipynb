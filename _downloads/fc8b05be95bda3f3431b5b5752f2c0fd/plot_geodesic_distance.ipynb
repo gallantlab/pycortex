{
  "cells": [
    {
      "cell_type": "markdown",
      "metadata": {},
      "source": [
        "\n# Plotting Geodesic Distances\n\nThis plots the distances (in mm) between a vertex or set of vertices and\nall other vertices on a surface. These two operations take the exact same\namount of time to run.\n\nTo look at the distance to a single point, just supply the index of that\nvertex. To look at the distance to a set of points, supply a numpy array of\nall of the vertices in the area. In the case of a set of points, the\ngeodesic distance measure will return the minimum distance to the set of\npoints as a whole.\n\nThe two hemispheres must be run separately.\n"
      ]
    },
    {
      "cell_type": "code",
      "execution_count": null,
      "metadata": {
        "collapsed": false
      },
      "outputs": [],
      "source": [
        "import cortex\nimport cortex.polyutils\nimport numpy as np\nimport matplotlib.pyplot as plt\n\nsubject = \"S1\"\n\n# First we need to import the surfaces for this subject\nsurfs = [cortex.polyutils.Surface(*d)\n         for d in cortex.db.get_surf(subject, \"fiducial\")]\n\n# Then we will pick one vertex in each hemisphere to find distances to\nvert = 10000\ndists = [s.geodesic_distance(vert) for s in surfs]\n\n# Now we can plot these distances onto a flatmap\nall_dists = np.hstack((dists[0], dists[1]))\ndist_map = cortex.Vertex(all_dists, subject, cmap=\"hot\")\ncortex.quickshow(dist_map)\nplt.show()\n\n# Alternatively, you can find the minimum distance from a set of points to the\n# surface\n# Here, we use an example of an ROI\nall_eba = cortex.utils.get_roi_verts(subject, \"EBA\")[\"EBA\"]\n\n# We have to then separate these vertices by hemisphere\nnuml = surfs[0].pts.shape[0]\neba_verts = [all_eba[all_eba < numl], all_eba[all_eba >= numl] - numl]\n\n# Now look at geodesic distances for each hemisphere separately\ndists = [s.geodesic_distance(verts) for s, verts in zip(surfs, eba_verts)]\nall_dists = np.hstack((dists[0], dists[1]))\n\n# And now plot these distances onto the cortical surface\ndist_map = cortex.Vertex(all_dists, subject, cmap=\"hot\")\ncortex.quickshow(dist_map)\nplt.show()"
      ]
    }
  ],
  "metadata": {
    "kernelspec": {
      "display_name": "Python 3",
      "language": "python",
      "name": "python3"
    },
    "language_info": {
      "codemirror_mode": {
        "name": "ipython",
        "version": 3
      },
      "file_extension": ".py",
      "mimetype": "text/x-python",
      "name": "python",
      "nbconvert_exporter": "python",
      "pygments_lexer": "ipython3",
      "version": "3.9.19"
    }
  },
  "nbformat": 4,
  "nbformat_minor": 0
}