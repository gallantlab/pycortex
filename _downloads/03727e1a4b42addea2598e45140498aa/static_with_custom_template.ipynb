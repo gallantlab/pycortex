{
  "cells": [
    {
      "cell_type": "markdown",
      "metadata": {},
      "source": [
        "\n# Static viewer with html template\nA static viewer is a brain viewer that exists permanently on a filesystem\nThe viewer is stored in a directory that stores html, javascript, data, etc\nThe viewer directory must be hosted by a server such as nginx.\n\nPycortex has the functionality of provide a custom html template to specify \nthe attributes of the viewer. The file 'my_template.html' included in this\ndirectory has css code which changes the color scheme of the controls \nwindow. The background is now white, with black text, and the sliders \nare red instead of blue. \n\nThe templates files included with pycortex () have been modified by adding \nthe following css code:\n\n    <style type = text/css>\n    .dg li:not(.folder) {\n        background: white;\n        color: black;\n        text-shadow: none;\n    }\n    .dg li:not(.folder):hover {\n        background: #d2cfcf;\n    }\n    .dg .cr.number input[type=text] {\n        color: black;\n        background: #c3c3c3;\n    }\n    .dg .cr.function:hover, .dg .cr.boolean:hover {\n        background: #d2cfcf;\n    }\n    .dg .cr.number input[type=text] :hover {\n        color: black;\n        background: #c3c3c3;\n    }\n    .dg .c .slider-fg{\n        background-color:red\n    }\n    .dg .c .slider:hover .slider-fg {\n        background: red;\n    }\n\n    </style>\n"
      ]
    },
    {
      "cell_type": "code",
      "execution_count": null,
      "metadata": {
        "collapsed": false
      },
      "outputs": [],
      "source": [
        "import cortex\n\nimport numpy as np\nnp.random.seed(1234)\n\n# gather data Volume\nvolume = cortex.Volume.random(subject='S1', xfmname='fullhead')\n\n# select path for static viewer on disk\nviewer_path = '/path/to/store/viewer'\n\n# create viewer using the 'my_template.html' template:\ncortex.webgl.make_static(outpath=viewer_path, data=volume,\n                        template = 'my_template.html')\n\n# a webserver such as nginx can then be used to host the static viewer\n# with the new template"
      ]
    }
  ],
  "metadata": {
    "kernelspec": {
      "display_name": "Python 3",
      "language": "python",
      "name": "python3"
    },
    "language_info": {
      "codemirror_mode": {
        "name": "ipython",
        "version": 3
      },
      "file_extension": ".py",
      "mimetype": "text/x-python",
      "name": "python",
      "nbconvert_exporter": "python",
      "pygments_lexer": "ipython3",
      "version": "3.9.21"
    }
  },
  "nbformat": 4,
  "nbformat_minor": 0
}