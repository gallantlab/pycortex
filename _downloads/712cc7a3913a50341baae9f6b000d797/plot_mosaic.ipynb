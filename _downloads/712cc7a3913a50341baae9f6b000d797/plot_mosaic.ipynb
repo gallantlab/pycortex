{
  "cells": [
    {
      "cell_type": "markdown",
      "metadata": {},
      "source": [
        "\n# Mosaic plot\n\nThe function `mosaic` plots all of the slices in a volume in a matplotlib figure. Good for quick visualization or testing of volumes.\n"
      ]
    },
    {
      "cell_type": "code",
      "execution_count": null,
      "metadata": {
        "collapsed": false
      },
      "outputs": [],
      "source": [
        "# sphinx_gallery_thumbnail_number = 3\n\nimport cortex\nimport matplotlib.pyplot as plt\n\n# load reference functional image for test purposes\nvolume_arr = cortex.db.get_xfm('S1', 'fullhead').reference.get_fdata().T\n# volume_arr is a (31,100,100) ndarray\n\n\n# with no args mosaic slices this volume in the first dimension\nplt.figure()\ncortex.mosaic(volume_arr)\n\n# slices along a different dimension can be plotted using the dim param\n# here coronal\nplt.figure()\ncortex.mosaic(volume_arr, dim=1)\n\n# kwargs are passed through to imshow\nplt.figure()\ncortex.mosaic(volume_arr, cmap=plt.cm.gray, vmin=0, vmax=1500)\n\n# mosaic always returns the mosaic image along with info about its shape\n# here show=False so we don't generate another plot\nmosaic_arr, (nwide, ntall) = cortex.mosaic(volume_arr, show=False)\n# mosaic_arr is 607 x 607, with nwide = 6, ntall = 6"
      ]
    }
  ],
  "metadata": {
    "kernelspec": {
      "display_name": "Python 3",
      "language": "python",
      "name": "python3"
    },
    "language_info": {
      "codemirror_mode": {
        "name": "ipython",
        "version": 3
      },
      "file_extension": ".py",
      "mimetype": "text/x-python",
      "name": "python",
      "nbconvert_exporter": "python",
      "pygments_lexer": "ipython3",
      "version": "3.9.19"
    }
  },
  "nbformat": 4,
  "nbformat_minor": 0
}