{
  "cells": [
    {
      "cell_type": "markdown",
      "metadata": {},
      "source": [
        "\n# Create a static viewer\n\nA static viewer is a brain viewer that exists permanently on a filesystem\n\nThe viewer is stored in a directory that stores html, javascript, data, etc\n\nThe viewer directory must be hosted by a server such as nginx\n"
      ]
    },
    {
      "cell_type": "code",
      "execution_count": null,
      "metadata": {
        "collapsed": false
      },
      "outputs": [],
      "source": [
        "import cortex\n\nimport numpy as np\nnp.random.seed(1234)\n\n# gather data Volume\nvolume = cortex.Volume.random(subject='S1', xfmname='fullhead')\n\n# select path for static viewer on disk\nviewer_path = '/path/to/store/viewer'\n\n# create viewer\ncortex.webgl.make_static(outpath=viewer_path, data=volume, recache=True)\n\n# a webserver such as nginx can then be used to host the static viewer"
      ]
    }
  ],
  "metadata": {
    "kernelspec": {
      "display_name": "Python 3",
      "language": "python",
      "name": "python3"
    },
    "language_info": {
      "codemirror_mode": {
        "name": "ipython",
        "version": 3
      },
      "file_extension": ".py",
      "mimetype": "text/x-python",
      "name": "python",
      "nbconvert_exporter": "python",
      "pygments_lexer": "ipython3",
      "version": "3.9.21"
    }
  },
  "nbformat": 4,
  "nbformat_minor": 0
}