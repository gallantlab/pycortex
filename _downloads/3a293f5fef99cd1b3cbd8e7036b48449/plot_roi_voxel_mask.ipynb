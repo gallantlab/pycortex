{
  "cells": [
    {
      "cell_type": "markdown",
      "metadata": {},
      "source": [
        "\n# Get ROI Voxel Mask\n\nGet proportion of each voxel that exists within a named ROI (this \nconstitutes a probability map for the ROI, with values ranging from\n0-1). Plot this probabilistic roi mask onto a flatmap. \n\nIn order for this to work, the specified ROI must exist in the\noverlays.svg file in the pycortex filestore for this subject.\n"
      ]
    },
    {
      "cell_type": "code",
      "execution_count": null,
      "metadata": {
        "collapsed": false
      },
      "outputs": [],
      "source": [
        "import cortex\nimport matplotlib.pyplot as plt\n\nsubject = \"S1\"\nxfm = \"fullhead\"\nroi = \"EBA\"\n\n# Get the map of which voxels are inside of our ROI\nroi_masks = cortex.utils.get_roi_masks(subject, xfm, \n                                       roi_list=[roi],\n                                       gm_sampler='cortical-conservative', # Select only voxels mostly within cortex\n                                       split_lr=False, # No separate left/right ROIs\n                                       threshold=None, # Leave roi mask values as probabilities / fractions\n                                       return_dict=True\n                                       )\n\n# Plot the mask for one ROI onto a flatmap\nroi_data = cortex.Volume(roi_masks[roi], subject, xfm, \n                         vmin=0, # This is a probability mask, so only\n                         vmax=1, # so scale btw zero and one\n                         cmap=\"inferno\", # For pretty\n                         )\n\ncortex.quickflat.make_figure(roi_data,\n                             thick=1, # select a single depth (btw white matter & pia)\n                             sampler='nearest', # no interpolation\n                             with_curvature=True,\n                             with_colorbar=True,\n                             )\n\nplt.show()"
      ]
    }
  ],
  "metadata": {
    "kernelspec": {
      "display_name": "Python 3",
      "language": "python",
      "name": "python3"
    },
    "language_info": {
      "codemirror_mode": {
        "name": "ipython",
        "version": 3
      },
      "file_extension": ".py",
      "mimetype": "text/x-python",
      "name": "python",
      "nbconvert_exporter": "python",
      "pygments_lexer": "ipython3",
      "version": "3.9.21"
    }
  },
  "nbformat": 4,
  "nbformat_minor": 0
}