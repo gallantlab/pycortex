{
  "cells": [
    {
      "cell_type": "markdown",
      "metadata": {},
      "source": [
        "\n# Plot and Use Subsurface Tools\n\nSubsurfaces can be used for efficient operations on subsets of cortical surface\n"
      ]
    },
    {
      "cell_type": "code",
      "execution_count": null,
      "metadata": {
        "collapsed": false
      },
      "outputs": [],
      "source": [
        "import tempfile\n\nimport matplotlib.pyplot as plt\nimport numpy as np\n\nimport cortex.polyutils\n\n\nsubject = 'S1'\n\nleft, right = cortex.db.get_surf(subject, 'fiducial')\nleft_surface = cortex.polyutils.Surface(left[0], left[1])\nright_surface = cortex.polyutils.Surface(right[0], right[1])"
      ]
    },
    {
      "cell_type": "markdown",
      "metadata": {},
      "source": [
        "create subsurface\n\n"
      ]
    },
    {
      "cell_type": "code",
      "execution_count": null,
      "metadata": {
        "collapsed": false
      },
      "outputs": [],
      "source": [
        "center = 125000\nradius = 7\n\npatch = left_surface.get_geodesic_patch(center, radius=radius)\nsubsurface = left_surface.create_subsurface(vertex_mask=patch['vertex_mask'])"
      ]
    },
    {
      "cell_type": "markdown",
      "metadata": {},
      "source": [
        "plot data on subsurface\n\n"
      ]
    },
    {
      "cell_type": "code",
      "execution_count": null,
      "metadata": {
        "collapsed": false
      },
      "outputs": [],
      "source": [
        "data = subsurface.geodesic_distance([0]) + 20\ndataset = cortex.Vertex(subsurface.lift_subsurface_data(data), subject, cmap='viridis')\ncortex.quickshow(dataset)\nplt.title('example subsurface data')\nplt.show()"
      ]
    },
    {
      "cell_type": "markdown",
      "metadata": {},
      "source": [
        "plot subsurface as gif\n\n\n"
      ]
    },
    {
      "cell_type": "code",
      "execution_count": null,
      "metadata": {
        "collapsed": false
      },
      "outputs": [],
      "source": [
        "f, path = tempfile.mkstemp()\npath = path + '.gif'\n# subsurface.plot_subsurface_rotating_gif(path=path)"
      ]
    },
    {
      "cell_type": "markdown",
      "metadata": {},
      "source": [
        "<img src=\"file://../../example_subsurface.gif\">\n\n"
      ]
    },
    {
      "cell_type": "markdown",
      "metadata": {},
      "source": [
        "create many patches\n\n\n"
      ]
    },
    {
      "cell_type": "code",
      "execution_count": null,
      "metadata": {
        "collapsed": false
      },
      "outputs": [],
      "source": [
        "patches = left_surface.get_geodesic_patches(\n    seeds=np.arange(0, 150000, 1000),\n    radius=8,\n)\n\ndataset = cortex.Vertex(\n    patches['vertex_masks'].sum(0),\n    subject,\n    cmap='viridis',\n    vmin=-1,\n    vmax=1,\n)\ncortex.quickshow(dataset)\nplt.title('patches')\nplt.show()"
      ]
    },
    {
      "cell_type": "markdown",
      "metadata": {},
      "source": [
        "create geodesic strip patch\n\n"
      ]
    },
    {
      "cell_type": "code",
      "execution_count": null,
      "metadata": {
        "collapsed": false
      },
      "outputs": [],
      "source": [
        "patch = left_surface.get_geodesic_strip_patch(v0=70000, v1=125000, radius=5)\n\ndataset = cortex.Vertex(patch['vertex_mask'], subject, vmin=-1, vmax=1, cmap='viridis')\ncortex.quickshow(dataset)\nplt.title('strip patch')\nplt.show()\n\ndataset = cortex.Vertex(patch['coordinates'][0, :], subject, cmap='viridis')\ncortex.quickshow(dataset)\nplt.title('first coordinate, distance along central geodesic axis')\nplt.show()\n\ndataset = cortex.Vertex(patch['coordinates'][1, :], subject, cmap='viridis', vmin=-5, vmax=5)\ncortex.quickshow(dataset)\nplt.title('second coordinate, distance from central geodesic axis')\nplt.show()"
      ]
    }
  ],
  "metadata": {
    "kernelspec": {
      "display_name": "Python 3",
      "language": "python",
      "name": "python3"
    },
    "language_info": {
      "codemirror_mode": {
        "name": "ipython",
        "version": 3
      },
      "file_extension": ".py",
      "mimetype": "text/x-python",
      "name": "python",
      "nbconvert_exporter": "python",
      "pygments_lexer": "ipython3",
      "version": "3.9.21"
    }
  },
  "nbformat": 4,
  "nbformat_minor": 0
}