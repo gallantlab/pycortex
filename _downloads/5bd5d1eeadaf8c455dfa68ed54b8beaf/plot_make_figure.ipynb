{
  "cells": [
    {
      "cell_type": "markdown",
      "metadata": {},
      "source": [
        "\n# Plot a 2D static flatmap\n\nquickflat visualizations use matplotlib to generate figure-quality 2D flatmaps.\n\nSimilar to webgl, this tool uses pixel-based mapping to project functional data\nonto the cortical surfaces.\n\nThis demo will use randomly generated data and plot a flatmap. Different\noptions to visualize the data will be demonstrated.\n\n**Some words on the `rechache` parameter before we begin:**\n\nSetting the `recache=True` parameter recaches the flatmap cache located in\n<filestore>/<subject>/cache. By default intermediate steps for a flatmap are\ncached after the first generation to speed up the process for the future. If\nany of the intermediate steps changes, the flatmap generation may fail.\n`recache=True` will load these intermediate steps new.\nThis can be helpful if you think there is no reason that the\n`quickflat.make_figure` to fail but it nevertheless fails. Try it, it's magic!\n"
      ]
    },
    {
      "cell_type": "code",
      "execution_count": null,
      "metadata": {
        "collapsed": false
      },
      "outputs": [],
      "source": [
        "import cortex\nimport matplotlib.pyplot as plt\nimport numpy as np\nnp.random.seed(1234)\n\n\n# Create a random pycortex Volume\nvolume = cortex.Volume.random(subject='S1', xfmname='retinotopy')\n\n# Plot a flatmap with the data projected onto the surface\n# By default ROIs and their labels will be overlaid to the plot\n# Also a colorbar will be added\n_ = cortex.quickflat.make_figure(volume)\nplt.show()\n\n# The cortex.quickshow method is a pointer to quickflat.make_figure\n# and will plot exactly the same as the above plot\n_ = cortex.quickshow(volume)\nplt.show()\n\n# Highlight the curvature\n_ = cortex.quickflat.make_figure(volume, with_curvature=True)\nplt.show()\n\n# Remove ROI labels from the plot\n_ = cortex.quickflat.make_figure(volume,\n                                 with_curvature=True,\n                                 with_labels=False)\nplt.show()\n\n# Remove ROIs from the plot\n_ = cortex.quickflat.make_figure(volume,\n                                 with_curvature=True,\n                                 with_rois=False)\nplt.show()\n\n# Remove the colorbar from the plot\ncortex.quickflat.make_figure(volume,\n                             with_curvature=True,\n                             with_colorbar=False)\n\nplt.show()"
      ]
    }
  ],
  "metadata": {
    "kernelspec": {
      "display_name": "Python 3",
      "language": "python",
      "name": "python3"
    },
    "language_info": {
      "codemirror_mode": {
        "name": "ipython",
        "version": 3
      },
      "file_extension": ".py",
      "mimetype": "text/x-python",
      "name": "python",
      "nbconvert_exporter": "python",
      "pygments_lexer": "ipython3",
      "version": "3.9.21"
    }
  },
  "nbformat": 4,
  "nbformat_minor": 0
}