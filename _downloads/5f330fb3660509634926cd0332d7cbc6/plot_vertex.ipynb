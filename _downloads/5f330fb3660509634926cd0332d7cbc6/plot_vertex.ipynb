{
  "cells": [
    {
      "cell_type": "markdown",
      "metadata": {},
      "source": [
        "\n# Plot Vertex Data\n\nThis plots example vertex data onto an example subject, S1, onto a flatmap\nusing quickflat. In order for this to run, you have to have a flatmap for\nthis subject in the pycortex filestore.\n\nThe cortex.Vertex object is instantiated with a numpy array of the same size\nas the total number of vertices in that subject's flatmap. Each pixel is\ncolored according to the value given for the nearest vertex in the flatmap.\n\nInstead of the random test data, you can replace this with any array that is\nthe length of all of the vertices in the subject.\n\nAdditionally, if you create a Vertex object using only the number of vertices\nthat exists in the left hemisphere of the brain, the right hemisphere is\nfilled in with zeros.\n"
      ]
    },
    {
      "cell_type": "code",
      "execution_count": null,
      "metadata": {
        "collapsed": false
      },
      "outputs": [],
      "source": [
        "import cortex\nimport cortex.polyutils\nimport numpy as np\nnp.random.seed(1234)\nimport matplotlib.pyplot as plt\n\nsubject = 'S1'\n\n# In order to get the number of vertices in this subject's cortical surface\n# we have to load in their surfaces and get the number of points in each\nsurfs = [cortex.polyutils.Surface(*d)\n         for d in cortex.db.get_surf(subject, \"fiducial\")]\n\n# This is the total number of vertices in both hemispheres combined\nnum_verts = surfs[0].pts.shape[0] + surfs[1].pts.shape[0]\n\n# Creating a random dataset with one entry for each vertex\ntest_data = np.random.randn(num_verts)\n\n# This creates a Vertex object for our subject and test dataset\nvertex_data = cortex.Vertex(test_data, subject)\n# And now we can display it on a flatmap\ncortex.quickshow(vertex_data)\nplt.show()\n\n# We can also plot just the left hemisphere data\nnuml = surfs[0].pts.shape[0]\n# This creates a Vertex object with an array only as long as the number of\n# vertices in the left hemisphere, and the right hemisphere will be filled\n# in with zeros\nvertex_data_left = cortex.Vertex(test_data[:numl], subject)\ncortex.quickshow(vertex_data_left)\nplt.show()"
      ]
    }
  ],
  "metadata": {
    "kernelspec": {
      "display_name": "Python 3",
      "language": "python",
      "name": "python3"
    },
    "language_info": {
      "codemirror_mode": {
        "name": "ipython",
        "version": 3
      },
      "file_extension": ".py",
      "mimetype": "text/x-python",
      "name": "python",
      "nbconvert_exporter": "python",
      "pygments_lexer": "ipython3",
      "version": "3.9.19"
    }
  },
  "nbformat": 4,
  "nbformat_minor": 0
}