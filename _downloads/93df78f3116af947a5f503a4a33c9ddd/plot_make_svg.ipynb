{
  "cells": [
    {
      "cell_type": "markdown",
      "metadata": {},
      "source": [
        "\n# Save a 2D static flatmap as SVG\n\nPlot a 2D static flatmap and save it as SVG file.\n\n**Some words on the `rechache` parameter before we begin:**\n\nSetting the `recache=True` parameter recaches the flatmap cache located in\n<filestore>/<subject>/cache. By default intermediate steps for a flatmap are\ncached after the first generation to speed up the process for the future. If\nany of the intermediate steps changes, the flatmap generation may fail.\n`recache=True` will load these intermediate steps new.\nThis can be helpful if you think there is no reason that the\n`quickflat.make_figure` to fail but it nevertheless fails. Try it, it's magic!\n\nThe default background is set to be a transparent image. If you want to change\nthat use the parameter `bgcolor`.\n"
      ]
    },
    {
      "cell_type": "code",
      "execution_count": null,
      "metadata": {
        "collapsed": false
      },
      "outputs": [],
      "source": [
        "import cortex\nimport matplotlib.pyplot as plt\nimport numpy as np\nnp.random.seed(1234)\n\n# Create a random pycortex Volume\nvolume = cortex.Volume.random(subject='S1', xfmname='fullhead')\n\n# Plot a flatmap with the data projected onto the surface\n_ = cortex.quickflat.make_figure(volume)\nplt.show()\n\n# Save this flatmap\nfilename = \"./my_flatmap.svg\"\n_ = cortex.quickflat.make_png(filename, volume, recache=False)"
      ]
    }
  ],
  "metadata": {
    "kernelspec": {
      "display_name": "Python 3",
      "language": "python",
      "name": "python3"
    },
    "language_info": {
      "codemirror_mode": {
        "name": "ipython",
        "version": 3
      },
      "file_extension": ".py",
      "mimetype": "text/x-python",
      "name": "python",
      "nbconvert_exporter": "python",
      "pygments_lexer": "ipython3",
      "version": "3.9.19"
    }
  },
  "nbformat": 4,
  "nbformat_minor": 0
}