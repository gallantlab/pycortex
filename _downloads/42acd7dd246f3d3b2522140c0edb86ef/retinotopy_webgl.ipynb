{
  "cells": [
    {
      "cell_type": "markdown",
      "metadata": {},
      "source": [
        "\n# Plot Example Retinotopy in Web Viewer\n\nThis demo shows how to plot example retinotopy data onto a subject's brain\nin a web viewer. In order for this demo to work, you need to download this\ndataset_, but that can also be done automatically through the `urllib`\ncommand that is included.\n\n\nS1 is the example subject that comes with pycortex, but if you want to plot\ndata onto a different subject, you will need to have them in your filestore.\n\nThis demo will not actually open the web viewer for you, but if you run it\nyourself you will get a viewer showing something like the following.\n\n<img src=\"file://../../webgl/angle_left.png\">\n"
      ]
    },
    {
      "cell_type": "code",
      "execution_count": null,
      "metadata": {
        "collapsed": false
      },
      "outputs": [],
      "source": [
        "import cortex\nfrom urllib.request import urlretrieve\n\n\n# Download and load in retinotopy data\n_ = urlretrieve(\n    \"https://s3.us-west-1.wasabisys.com/glab-public-datasets/S1_retinotopy.hdf\", \n    \"S1_retinotopy.hdf\"\n)\nret_data = cortex.load(\"S1_retinotopy.hdf\")\n\n# Open the webviewer\ncortex.webshow(ret_data)"
      ]
    }
  ],
  "metadata": {
    "kernelspec": {
      "display_name": "Python 3",
      "language": "python",
      "name": "python3"
    },
    "language_info": {
      "codemirror_mode": {
        "name": "ipython",
        "version": 3
      },
      "file_extension": ".py",
      "mimetype": "text/x-python",
      "name": "python",
      "nbconvert_exporter": "python",
      "pygments_lexer": "ipython3",
      "version": "3.9.21"
    }
  },
  "nbformat": 4,
  "nbformat_minor": 0
}