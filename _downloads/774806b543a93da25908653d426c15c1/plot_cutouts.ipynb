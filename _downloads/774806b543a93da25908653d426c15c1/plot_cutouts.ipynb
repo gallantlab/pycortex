{
  "cells": [
    {
      "cell_type": "markdown",
      "metadata": {},
      "source": [
        "\n# Plot cutouts on the flatmap\n\nCutouts are manually generated cuts of the cortical surface to highlight\na region of interest.\n\nCutouts are defined as sub-layers of the `cutouts` layer\nin <filestore>/<subject>/overlays.svg.\n\nThe parameter `cutout` of the `quickflat.make_figure` method should be the\nname of the flatmap cutout defined in the `overlays.svg` file.\n"
      ]
    },
    {
      "cell_type": "code",
      "execution_count": null,
      "metadata": {
        "collapsed": false
      },
      "outputs": [],
      "source": [
        "import cortex\nimport numpy as np\nnp.random.seed(1234)\n\n# Name of a sub-layer of the 'cutouts' layer in overlays.svg file\ncutout_name = \"VisualCortexRight\"\n\n# Create a random pycortex Volume\nvolume = cortex.Volume.random(subject='S1', xfmname='fullhead')\n\n# Plot a flatmap with the data projected onto the surface\n# Highlight the curvature and which cutout to be displayed\n_ = cortex.quickflat.make_figure(volume,\n                                 with_curvature=True,\n                                 cutout=cutout_name)"
      ]
    }
  ],
  "metadata": {
    "kernelspec": {
      "display_name": "Python 3",
      "language": "python",
      "name": "python3"
    },
    "language_info": {
      "codemirror_mode": {
        "name": "ipython",
        "version": 3
      },
      "file_extension": ".py",
      "mimetype": "text/x-python",
      "name": "python",
      "nbconvert_exporter": "python",
      "pygments_lexer": "ipython3",
      "version": "3.9.19"
    }
  },
  "nbformat": 4,
  "nbformat_minor": 0
}