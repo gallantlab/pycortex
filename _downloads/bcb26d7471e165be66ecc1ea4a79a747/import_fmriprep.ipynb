{
  "cells": [
    {
      "cell_type": "markdown",
      "metadata": {},
      "source": [
        "\n# Import fmriprep output\n\nRecently, many people have start to use fmriprep as a complete preprocessing workflow of anatomical and functional data. Pycortex has a convenience function to import\nthe output of this workflow.\n\nThis example is based on the fmriprep 1.0.15 output of openfmri ds000164 that can be found on openneuro.org: https://openneuro.org/datasets/ds000164/versions/00001\n\nNB: `cortex.fmriprep` is a work-in-progress and cannot currently handle multiple datasets when the subject IDs are the same (see https://github.com/gallantlab/pycortex/issues/304).\n"
      ]
    },
    {
      "cell_type": "code",
      "execution_count": null,
      "metadata": {
        "collapsed": false
      },
      "outputs": [],
      "source": [
        "import cortex\nfrom cortex import fmriprep\nfrom os import path as op\n\n# Location of the downloaded openfmri dataset\nsource_directory = '/derivatives/ds000164'\n# fmriprep subject name (without \"sub-\")\nsubject_id = '001' \n\n# import subject into pycortex database\nfmriprep.import_subj(subject_id, source_directory)\n\n# We can visualize the imported subject's T1-weighted image\nanat_nifti = 'fmriprep/sub-001/anat/sub-001_T1w_preproc.nii.gz'\nt1_image_path = op.join(source_directory, anat_nifti)\n\n# Now we can make a volume using the built-in identity transform\nt1w_volume = cortex.Volume(t1_image_path, subject_id, 'identity')\n\n# And show the result.\nds = cortex.Dataset(t1w=t1w_volume)\ncortex.webgl.show(ds)"
      ]
    }
  ],
  "metadata": {
    "kernelspec": {
      "display_name": "Python 3",
      "language": "python",
      "name": "python3"
    },
    "language_info": {
      "codemirror_mode": {
        "name": "ipython",
        "version": 3
      },
      "file_extension": ".py",
      "mimetype": "text/x-python",
      "name": "python",
      "nbconvert_exporter": "python",
      "pygments_lexer": "ipython3",
      "version": "3.9.19"
    }
  },
  "nbformat": 4,
  "nbformat_minor": 0
}