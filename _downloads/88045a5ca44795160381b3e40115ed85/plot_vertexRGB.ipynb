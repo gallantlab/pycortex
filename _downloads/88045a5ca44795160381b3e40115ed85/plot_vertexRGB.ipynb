{
  "cells": [
    {
      "cell_type": "markdown",
      "metadata": {},
      "source": [
        "\n# Plot RGB Vertex Data\n\nThis plots example RGB vertex data onto an example subject, S1, onto a flatmap\nusing quickflat. In order for this to run, you have to have a flatmap for this\nsubject in the pycortex filestore.\n\nThe cortex.VertexRGB object is instantiated with three cortex.Vertex objects,\none for each of the three color channels. Ideally, the data in the Volume\nobjects will be scaled to be between 0-255 and be np.uint8 type.\n\nHere, two datasets are generated to look like gradients across the brain and\na third dataset makes a series of random stripes across the brain. You can\nuse any cortex.Vertex objects in their place though.\n"
      ]
    },
    {
      "cell_type": "code",
      "execution_count": null,
      "metadata": {
        "collapsed": false
      },
      "outputs": [],
      "source": [
        "import cortex\nimport cortex.polyutils\nimport numpy as np\nnp.random.seed(1234)\nimport matplotlib.pyplot as plt\n\nsubject = 'S1'\n\n# In order to get the number of vertices in this subject's cortical surface\n# we have to load in their surfaces and get the number of points in each\nsurfs = [cortex.polyutils.Surface(*d)\n         for d in cortex.db.get_surf(subject, \"fiducial\")]\n\n# This is the total number of vertices in the left and right hemispheres\nnum_verts = [s.pts.shape[0] for s in surfs]\n\n# Creating one fake dataset that is basically a gradient across each\n# hemisphere based on vertex number\ntest1 = np.hstack((np.arange(num_verts[0]), np.arange(num_verts[1])))\n\n# Picking a different vertex in each hemisphere to create another fake\n# gradient away from that vertex\nsecond_verts = [n / 4 for n in num_verts]\ntest2 = np.hstack((np.abs(np.arange(num_verts[0]) - second_verts[0]),\n                   np.abs(np.arange(num_verts[1]) - second_verts[1])))\n\n# Creating a third dataset that is random stripes\nthird_verts = np.random.randint(num_verts[0] + num_verts[1], size=(20,))\ntest3 = np.zeros(num_verts[0] + num_verts[1])\nfor v in third_verts:\n    test3[v-1000: v+1000] = 1\n\n# Scaling the three datasets to be between 0-255\ntest1_scaled = test1 / np.max(test1) * 255\ntest2_scaled = test2 / np.max(test2) * 255\ntest3_scaled = test3 / np.max(test3) * 255\n\n# Creating three cortex.Volume objects with the test data as np.uint8\nred = cortex.Vertex(test1_scaled, subject)\ngreen = cortex.Vertex(test2_scaled, subject)\nblue = cortex.Vertex(test3_scaled, subject)\n\n# This creates a 2D Vertex object with both of our test datasets for the\n# given subject\nvertex_data = cortex.VertexRGB(red, green, blue, subject)\ncortex.quickshow(vertex_data, with_colorbar=False)\nplt.show()"
      ]
    }
  ],
  "metadata": {
    "kernelspec": {
      "display_name": "Python 3",
      "language": "python",
      "name": "python3"
    },
    "language_info": {
      "codemirror_mode": {
        "name": "ipython",
        "version": 3
      },
      "file_extension": ".py",
      "mimetype": "text/x-python",
      "name": "python",
      "nbconvert_exporter": "python",
      "pygments_lexer": "ipython3",
      "version": "3.9.19"
    }
  },
  "nbformat": 4,
  "nbformat_minor": 0
}