{
  "cells": [
    {
      "cell_type": "markdown",
      "metadata": {},
      "source": [
        "\n# Get Vertices for an ROI\n\nIn this example we show how to get the vertices that are inside an ROI that was\ndefined in the SVG ROI file (see :doc:`/rois.rst`).\n"
      ]
    },
    {
      "cell_type": "code",
      "execution_count": null,
      "metadata": {
        "collapsed": false
      },
      "outputs": [],
      "source": [
        "import cortex\n\n# get vertices for fusiform face area FFA in subject S1\nroi_verts = cortex.get_roi_verts('S1', 'FFA')\n\n# roi_verts is a dictionary (in this case with only one entry)\nffa_verts = roi_verts['FFA']\n\n# this includes indices from both hemispheres\n# let's create an empty Vertex object and fill FFA\n\nffa_map = cortex.Vertex.empty('S1', cmap='plasma')\nffa_map.data[ffa_verts] = 1.0\n\ncortex.quickshow(ffa_map)"
      ]
    }
  ],
  "metadata": {
    "kernelspec": {
      "display_name": "Python 3",
      "language": "python",
      "name": "python3"
    },
    "language_info": {
      "codemirror_mode": {
        "name": "ipython",
        "version": 3
      },
      "file_extension": ".py",
      "mimetype": "text/x-python",
      "name": "python",
      "nbconvert_exporter": "python",
      "pygments_lexer": "ipython3",
      "version": "3.9.21"
    }
  },
  "nbformat": 4,
  "nbformat_minor": 0
}