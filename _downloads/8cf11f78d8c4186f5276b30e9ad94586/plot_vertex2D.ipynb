{
  "cells": [
    {
      "cell_type": "markdown",
      "metadata": {},
      "source": [
        "\n# Plot 2D Vertex Data\n\nThis plots example 2D vertex data onto an example subject, S1, onto a flatmap\nusing quickflat. In order for this to run, you have to have a flatmap for this\nsubject in the pycortex filestore.\n\nThe cortex.Vertex2D object is instantiated with two numpy arrays of the same\nsize as the total number of vertices in that subject's flatmap. Each pixel is\ncolored according to both values given for the nearest vertex in the flatmap.\n\nInstead of random test data, you can replace these with any arrays that are\nthe length of the all the vertices in the subject.\n"
      ]
    },
    {
      "cell_type": "code",
      "execution_count": null,
      "metadata": {
        "collapsed": false
      },
      "outputs": [],
      "source": [
        "import cortex\nimport cortex.polyutils\nimport numpy as np\nimport matplotlib.pyplot as plt\n\nsubject = 'S1'\n\n# In order to get the number of vertices in this subject's cortical surface\n# we have to load in their surfaces and get the number of points in each\nsurfs = [cortex.polyutils.Surface(*d)\n         for d in cortex.db.get_surf(subject, \"fiducial\")]\n\n# This is the total number of vertices in the left and right hemispheres\nnum_verts = [s.pts.shape[0] for s in surfs]\n\n# Creating one random dataset that is basically a gradient across each\n# hemisphere based on vertex number\ntest_data1 = np.hstack((np.arange(num_verts[0]), np.arange(num_verts[1])))\n\n# Picking a different vertex in each hemisphere to create another fake\n# gradient away from that vertex\nsecond_verts = [n / 4 for n in num_verts]\ntest_data2 = np.hstack((np.abs(np.arange(num_verts[0]) - second_verts[0]),\n                        np.abs(np.arange(num_verts[1]) - second_verts[1])))\n\n# This creates a 2D Vertex object with both of our test datasets for the\n# given subject\nvertex_data = cortex.Vertex2D(test_data1, test_data2, subject)\ncortex.quickshow(vertex_data, with_colorbar=False)\nplt.show()"
      ]
    }
  ],
  "metadata": {
    "kernelspec": {
      "display_name": "Python 3",
      "language": "python",
      "name": "python3"
    },
    "language_info": {
      "codemirror_mode": {
        "name": "ipython",
        "version": 3
      },
      "file_extension": ".py",
      "mimetype": "text/x-python",
      "name": "python",
      "nbconvert_exporter": "python",
      "pygments_lexer": "ipython3",
      "version": "3.9.19"
    }
  },
  "nbformat": 4,
  "nbformat_minor": 0
}