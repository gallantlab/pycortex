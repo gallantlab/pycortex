{
  "cells": [
    {
      "cell_type": "markdown",
      "metadata": {},
      "source": [
        "\n# Plot RGB Volume Data\n\nThis plots an example RGB dataset onto an example subject, S1, onto a flatmap\nusing quickflat. In order for this to run, you have to a have a flatmap for\nthis subject in the pycortex filestore.\n\nThe cortex.VolumeRGB object is instantiated with three cortex.Volume objects,\none for each of the three color channels. Ideally, the data in the Volume\nobjects will be scaled to be between 0-255 and be np.uint8 type. The objects\ncan also be 1D numpy arrays of equal sizes, in which case the subject and\ntransform will need to be given as arguments.\n\nHere, two datasets are generated to look like gradients across the brain and\na third dataset makes a series of stripes across the brain.\n\nBy default, VolumeRGB maps each data channels on to the red, green, and blue\nchannels in RGB color space. You can also specify custom colors for each data\nchannel, and the colors will be linearly combined. Custom colors can be specified\nby the `channel1color`, `channel2color`, and `channel2color` arguments, using\n3-ples of uint8 to specify RGB colors for each data channel. `cortex.Colors` provides\na set of named colors that can be used.\n\nAlso by default, each data channel is normalized separately on to its respective\ncolor. Doing so is not necessarily good for quantitative comparisons in cases in\nwhich the range of values in each data channel differs. The argument `shared_range`,\nif set to `True`, will force all three data channels to be on the same scale for\nequitable comparisons. When `shared_range` is true, the arguments `shared_vmin` and\nshared_vmax` will allow you to specify minimum and maximum values manually.\n"
      ]
    },
    {
      "cell_type": "code",
      "execution_count": null,
      "metadata": {
        "collapsed": false
      },
      "outputs": [],
      "source": [
        "import cortex\nimport numpy as np\nimport matplotlib.pyplot as plt\n\nsubject = \"S1\"\nxfm = \"fullhead\"\n\n# Creating three test datasets that are the same shape as this transform with\n# one entry for this voxel\n# The first two are gradients going in different directions across the brain\n# and the third is stripes across certain slices of the brain\ntest1 = np.arange(31. * 100 * 100).reshape((31, 100, 100), order='C')\ntest2 = np.arange(31. * 100 * 100).reshape((31, 100, 100), order='F')\ntest3 = np.zeros((31, 100, 100))\ntest3[::3, :, :] = 1\n\n# Scaling the three datasets to be between 0-255\ntest1_scaled = test1 / np.max(test1) * 255\ntest2_scaled = test2 / np.max(test2) * 255\ntest3_scaled = test3 / np.max(test3) * 255\n\n# Creating three cortex.Volume objects with the test data as np.uint8\nred = cortex.Volume(test1_scaled.astype(np.uint8), 'S1', 'fullhead')\ngreen = cortex.Volume(test2_scaled.astype(np.uint8), 'S1', 'fullhead')\nblue = cortex.Volume(test3_scaled.astype(np.uint8), 'S1', 'fullhead')\n\n# This creates an RGB Volume from the three different color channels for\n# this subject using the default RGB mappings\n# Note that you do not need to specify the transform when creating this as it\n# is already specified in the red, green, and blue channels\nvol_data = cortex.VolumeRGB(red, green, blue, subject)\ncortex.quickshow(vol_data, with_colorbar=False)\nplt.show()\n\n# This creates an RGB Volume from the three different color channels for\n# this subject using custom colors.\n# Note that you do not need to specify the transform when creating this as it\n# is already specified in the red, green, and blue channels\nvol_data = cortex.VolumeRGB(red, green, blue, subject,\n\t\t\t\t\t\t\tchannel1color=cortex.Colors.RoseRed,\n\t\t\t\t\t\t\tchannel2color=cortex.Colors.LimeGreen,\n\t\t\t\t\t\t\tchannel3color=cortex.Colors.DodgerBlue)\ncortex.quickshow(vol_data, with_colorbar=False)\nplt.show()\n\n# This creates an RGB Volume from the three different color channels for\n# this subject using custom colors, and shared value ranges.\n# Note that you do not need to specify the transform when creating this as it\n# is already specified in the red, green, and blue channels\nvol_data = cortex.VolumeRGB(red, green, blue, subject,\n\t\t\t\t\t\t\tchannel1color=cortex.Colors.RoseRed,\n\t\t\t\t\t\t\tchannel2color=cortex.Colors.LimeGreen,\n\t\t\t\t\t\t\tchannel3color=cortex.Colors.DodgerBlue,\n\t\t\t\t\t\t\tshared_range=True, shared_vmin=10, shared_vmax=100)\ncortex.quickshow(vol_data, with_colorbar=False)\nplt.show()"
      ]
    }
  ],
  "metadata": {
    "kernelspec": {
      "display_name": "Python 3",
      "language": "python",
      "name": "python3"
    },
    "language_info": {
      "codemirror_mode": {
        "name": "ipython",
        "version": 3
      },
      "file_extension": ".py",
      "mimetype": "text/x-python",
      "name": "python",
      "nbconvert_exporter": "python",
      "pygments_lexer": "ipython3",
      "version": "3.9.19"
    }
  },
  "nbformat": 4,
  "nbformat_minor": 0
}