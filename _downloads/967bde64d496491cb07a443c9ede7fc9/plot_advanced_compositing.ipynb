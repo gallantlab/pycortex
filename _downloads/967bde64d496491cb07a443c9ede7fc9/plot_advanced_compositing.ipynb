{
  "cells": [
    {
      "cell_type": "markdown",
      "metadata": {},
      "source": [
        "\n# Plot with advanced compositing\n\nThe way flatmap plotting works in pycortex is to create different image\nlayers (data, ROIs, sulci, etc) and overlay each on top of the other. \nUsually, quickflat.make_figure() handles all this for you, but each \nlayer can be manipulated independently for fancier effects with the \nquickflat.composite sub-module. \n"
      ]
    },
    {
      "cell_type": "code",
      "execution_count": null,
      "metadata": {
        "collapsed": false
      },
      "outputs": [],
      "source": [
        "import cortex\nimport matplotlib.pyplot as plt\n\n# Create a random volume\nvolume = cortex.Volume.random(subject='S1', xfmname='fullhead')\n\n# Create basic figure, with rois, labels, sulci all off\nfig = cortex.quickflat.make_figure(volume, \n                                   with_curvature=True, \n                                   with_rois=False, \n                                   with_labels=False, \n                                   with_sulci=False)\n# Add sulci in light yellow\n_ = cortex.quickflat.composite.add_sulci(fig, volume,\n                                         with_labels=False,\n                                         linewidth=2,\n                                         linecolor=(0.9, 0.85, 0.5))\n# Add all rois, with a particular color scheme:\n_ = cortex.quickflat.composite.add_rois(fig, volume,\n                                        with_labels=False,\n                                        linewidth=1,\n                                        linecolor=(0.8, 0.8, 0.8))\n# Highlight face- and body-selective ROIs:\n_ = cortex.quickflat.composite.add_rois(fig, volume,\n                                        roi_list=['FFA', 'EBA', 'OFA'],  # (This defaults to all rois if not specified)\n                                        with_labels=True,\n                                        linewidth=5,\n                                        linecolor=(0.9, 0.5, 0.5),\n                                        labelcolor=(0.9, 0.5, 0.5),\n                                        labelsize=20,\n                                        roifill=(0.9, 0.5, 0.5),\n                                        fillalpha=0.35,\n                                        dashes=(5, 3)                    # Dash length & gap btw dashes\n                                        )\nplt.show()"
      ]
    }
  ],
  "metadata": {
    "kernelspec": {
      "display_name": "Python 3",
      "language": "python",
      "name": "python3"
    },
    "language_info": {
      "codemirror_mode": {
        "name": "ipython",
        "version": 3
      },
      "file_extension": ".py",
      "mimetype": "text/x-python",
      "name": "python",
      "nbconvert_exporter": "python",
      "pygments_lexer": "ipython3",
      "version": "3.9.19"
    }
  },
  "nbformat": 4,
  "nbformat_minor": 0
}